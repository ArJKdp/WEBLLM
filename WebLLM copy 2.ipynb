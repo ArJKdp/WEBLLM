{
 "cells": [
  {
   "cell_type": "code",
   "execution_count": 2,
   "id": "6ee28a85",
   "metadata": {},
   "outputs": [],
   "source": [
    "from flask import Flask, request, jsonify\n",
    "import pandas as pd\n",
    "\n",
    "# Initialize Flask app\n",
    "app = Flask(__name__)"
   ]
  },
  {
   "cell_type": "code",
   "execution_count": 3,
   "id": "00aa2f05",
   "metadata": {},
   "outputs": [],
   "source": [
    "import pandas as pd\n",
    "import numpy as np\n",
    "import matplotlib.pyplot as plt\n",
    "import seaborn as sns"
   ]
  },
  {
   "cell_type": "code",
   "execution_count": 9,
   "id": "b07bad37",
   "metadata": {},
   "outputs": [
    {
     "name": "stdout",
     "output_type": "stream",
     "text": [
      "Dataset loaded successfully.\n"
     ]
    }
   ],
   "source": [
    "try:\n",
    "    df = pd.read_csv('C:\\\\Sirigiri\\\\VSCode\\\\Automobile_data.csv')\n",
    "    required_columns = {'make', 'fuel-type', 'body-style', 'drive-wheels', 'price'}\n",
    "    if not required_columns.issubset(df.columns):\n",
    "        raise ValueError(f\"Dataset is missing required columns: {required_columns - set(df.columns)}\")\n",
    "    print(\"Dataset loaded successfully.\")\n",
    "except Exception as e:\n",
    "    print(f\"Error loading dataset: {e}\")\n",
    "    df = pd.DataFrame()  # Use an empty DataFrame as a fallback"
   ]
  },
  {
   "cell_type": "code",
   "execution_count": 10,
   "id": "247bfde4",
   "metadata": {},
   "outputs": [],
   "source": [
    "def suggest_cars(df, preferences):\n",
    "    filtered_df = df.copy()\n",
    "    \n",
    "    # Ensure the 'price' column is numeric and handle missing values\n",
    "    filtered_df['price'] = pd.to_numeric(filtered_df['price'], errors='coerce')\n",
    "    filtered_df = filtered_df.dropna(subset=['price'])\n",
    "    filtered_df['price'] = filtered_df['price'].astype(int)\n",
    "    \n",
    "    # Filter the dataset based on user preferences\n",
    "    for key, value in preferences.items():\n",
    "        if key in filtered_df.columns:\n",
    "            print(f\"Filtering by {key} = {value}\")  # Debugging\n",
    "            filtered_df = filtered_df[filtered_df[key] == value]\n",
    "    \n",
    "    # Sort the filtered results by price in ascending order\n",
    "    filtered_df = filtered_df.sort_values(by='price', ascending=True)\n",
    "    \n",
    "    # Return the filtered results as a list of dictionaries\n",
    "    suggestions = filtered_df[['make', 'fuel-type', 'body-style', 'drive-wheels', 'price']].to_dict(orient='records')\n",
    "    print(f\"Generated Suggestions: {suggestions}\")  # Debugging\n",
    "    return suggestions"
   ]
  },
  {
   "cell_type": "code",
   "execution_count": 11,
   "id": "393dc60a",
   "metadata": {},
   "outputs": [],
   "source": [
    "if 'get_suggestions' not in app.view_functions:\n",
    "    @app.route('/get-suggestions', methods=['POST'])\n",
    "    def get_suggestions():\n",
    "        if df.empty:\n",
    "            return jsonify({\"error\": \"Dataset is not available or is empty.\"}), 500\n",
    "\n",
    "        preferences = request.json  # Get user preferences from the request\n",
    "        print(\"Received Preferences:\", preferences)  # Debugging\n",
    "        try:\n",
    "            suggestions = suggest_cars(df, preferences)  # Call the filtering function\n",
    "            if not suggestions:\n",
    "                return jsonify({\"message\": \"No cars found matching the preferences.\"}), 404\n",
    "            print(\"Suggestions Returned:\", suggestions)  # Debugging\n",
    "            return jsonify(suggestions)  # Return the suggestions as JSON\n",
    "        except Exception as e:\n",
    "            print(f\"Error processing request: {e}\")\n",
    "            return jsonify({\"error\": \"An error occurred while processing the request.\"}), 500"
   ]
  },
  {
   "cell_type": "code",
   "execution_count": null,
   "id": "12380e63",
   "metadata": {},
   "outputs": [
    {
     "name": "stdout",
     "output_type": "stream",
     "text": [
      " * Serving Flask app '__main__'\n",
      " * Debug mode: on\n"
     ]
    },
    {
     "name": "stderr",
     "output_type": "stream",
     "text": [
      "WARNING: This is a development server. Do not use it in a production deployment. Use a production WSGI server instead.\n",
      " * Running on http://127.0.0.1:5000\n",
      "Press CTRL+C to quit\n",
      "127.0.0.1 - - [21/Apr/2025 15:58:38] \"GET / HTTP/1.1\" 404 -\n",
      "127.0.0.1 - - [21/Apr/2025 15:58:51] \"GET / HTTP/1.1\" 404 -\n",
      "127.0.0.1 - - [21/Apr/2025 15:58:58] \"OPTIONS /get-suggestions HTTP/1.1\" 200 -\n",
      "127.0.0.1 - - [21/Apr/2025 15:59:22] \"OPTIONS /get-suggestions HTTP/1.1\" 200 -\n",
      "127.0.0.1 - - [21/Apr/2025 15:59:25] \"OPTIONS /get-suggestions HTTP/1.1\" 200 -\n",
      "127.0.0.1 - - [21/Apr/2025 16:02:40] \"OPTIONS /get-suggestions HTTP/1.1\" 200 -\n",
      "127.0.0.1 - - [21/Apr/2025 16:02:44] \"OPTIONS /get-suggestions HTTP/1.1\" 200 -\n",
      "127.0.0.1 - - [21/Apr/2025 16:05:11] \"GET / HTTP/1.1\" 404 -\n",
      "127.0.0.1 - - [21/Apr/2025 16:10:58] \"OPTIONS /get-suggestions HTTP/1.1\" 200 -\n",
      "127.0.0.1 - - [21/Apr/2025 16:11:01] \"OPTIONS /get-suggestions HTTP/1.1\" 200 -\n",
      "127.0.0.1 - - [21/Apr/2025 16:12:49] \"OPTIONS /get-suggestions HTTP/1.1\" 200 -\n",
      "127.0.0.1 - - [21/Apr/2025 16:12:52] \"OPTIONS /get-suggestions HTTP/1.1\" 200 -\n",
      "127.0.0.1 - - [21/Apr/2025 16:12:54] \"OPTIONS /get-suggestions HTTP/1.1\" 200 -\n",
      "127.0.0.1 - - [21/Apr/2025 16:15:17] \"OPTIONS /get-suggestions HTTP/1.1\" 200 -\n",
      "127.0.0.1 - - [21/Apr/2025 16:15:22] \"OPTIONS /get-suggestions HTTP/1.1\" 200 -\n",
      "127.0.0.1 - - [21/Apr/2025 16:16:08] \"GET / HTTP/1.1\" 404 -\n",
      "127.0.0.1 - - [21/Apr/2025 16:19:20] \"GET /get-suggestions HTTP/1.1\" 405 -\n",
      "127.0.0.1 - - [21/Apr/2025 16:20:31] \"GET /get-suggestions HTTP/1.1\" 405 -\n",
      "127.0.0.1 - - [21/Apr/2025 16:21:04] \"GET /get-suggestions HTTP/1.1\" 405 -\n",
      "127.0.0.1 - - [21/Apr/2025 16:21:14] \"GET /get-suggestions HTTP/1.1\" 405 -\n",
      "127.0.0.1 - - [21/Apr/2025 16:23:32] \"GET /get-suggestions HTTP/1.1\" 405 -\n",
      "127.0.0.1 - - [21/Apr/2025 16:25:15] \"POST /get-suggestions HTTP/1.1\" 200 -\n"
     ]
    },
    {
     "name": "stdout",
     "output_type": "stream",
     "text": [
      "Received Preferences: {'fuel-type': 'gas', 'body-style': 'sedan', 'drive-wheels': 'fwd'}\n",
      "Filtering by fuel-type = gas\n",
      "Filtering by body-style = sedan\n",
      "Filtering by drive-wheels = fwd\n",
      "Generated Suggestions: [{'make': 'nissan', 'fuel-type': 'gas', 'body-style': 'sedan', 'drive-wheels': 'fwd', 'price': 5499}, {'make': 'chevrolet', 'fuel-type': 'gas', 'body-style': 'sedan', 'drive-wheels': 'fwd', 'price': 6575}, {'make': 'nissan', 'fuel-type': 'gas', 'body-style': 'sedan', 'drive-wheels': 'fwd', 'price': 6649}, {'make': 'dodge', 'fuel-type': 'gas', 'body-style': 'sedan', 'drive-wheels': 'fwd', 'price': 6692}, {'make': 'plymouth', 'fuel-type': 'gas', 'body-style': 'sedan', 'drive-wheels': 'fwd', 'price': 6692}, {'make': 'mazda', 'fuel-type': 'gas', 'body-style': 'sedan', 'drive-wheels': 'fwd', 'price': 6695}, {'make': 'nissan', 'fuel-type': 'gas', 'body-style': 'sedan', 'drive-wheels': 'fwd', 'price': 6849}, {'make': 'toyota', 'fuel-type': 'gas', 'body-style': 'sedan', 'drive-wheels': 'fwd', 'price': 6938}, {'make': 'mitsubishi', 'fuel-type': 'gas', 'body-style': 'sedan', 'drive-wheels': 'fwd', 'price': 6989}, {'make': 'subaru', 'fuel-type': 'gas', 'body-style': 'sedan', 'drive-wheels': 'fwd', 'price': 7126}, {'make': 'honda', 'fuel-type': 'gas', 'body-style': 'sedan', 'drive-wheels': 'fwd', 'price': 7295}, {'make': 'nissan', 'fuel-type': 'gas', 'body-style': 'sedan', 'drive-wheels': 'fwd', 'price': 7299}, {'make': 'mazda', 'fuel-type': 'gas', 'body-style': 'sedan', 'drive-wheels': 'fwd', 'price': 7395}, {'make': 'nissan', 'fuel-type': 'gas', 'body-style': 'sedan', 'drive-wheels': 'fwd', 'price': 7499}, {'make': 'plymouth', 'fuel-type': 'gas', 'body-style': 'sedan', 'drive-wheels': 'fwd', 'price': 7609}, {'make': 'dodge', 'fuel-type': 'gas', 'body-style': 'sedan', 'drive-wheels': 'fwd', 'price': 7609}, {'make': 'toyota', 'fuel-type': 'gas', 'body-style': 'sedan', 'drive-wheels': 'fwd', 'price': 7738}, {'make': 'subaru', 'fuel-type': 'gas', 'body-style': 'sedan', 'drive-wheels': 'fwd', 'price': 7775}, {'make': 'volkswagen', 'fuel-type': 'gas', 'body-style': 'sedan', 'drive-wheels': 'fwd', 'price': 7975}, {'make': 'mitsubishi', 'fuel-type': 'gas', 'body-style': 'sedan', 'drive-wheels': 'fwd', 'price': 8189}, {'make': 'volkswagen', 'fuel-type': 'gas', 'body-style': 'sedan', 'drive-wheels': 'fwd', 'price': 8195}, {'make': 'volkswagen', 'fuel-type': 'gas', 'body-style': 'sedan', 'drive-wheels': 'fwd', 'price': 8495}, {'make': 'mazda', 'fuel-type': 'gas', 'body-style': 'sedan', 'drive-wheels': 'fwd', 'price': 8495}, {'make': 'dodge', 'fuel-type': 'gas', 'body-style': 'sedan', 'drive-wheels': 'fwd', 'price': 8558}, {'make': 'honda', 'fuel-type': 'gas', 'body-style': 'sedan', 'drive-wheels': 'fwd', 'price': 8845}, {'make': 'toyota', 'fuel-type': 'gas', 'body-style': 'sedan', 'drive-wheels': 'fwd', 'price': 8948}, {'make': 'toyota', 'fuel-type': 'gas', 'body-style': 'sedan', 'drive-wheels': 'fwd', 'price': 9258}, {'make': 'mitsubishi', 'fuel-type': 'gas', 'body-style': 'sedan', 'drive-wheels': 'fwd', 'price': 9279}, {'make': 'mitsubishi', 'fuel-type': 'gas', 'body-style': 'sedan', 'drive-wheels': 'fwd', 'price': 9279}, {'make': 'nissan', 'fuel-type': 'gas', 'body-style': 'sedan', 'drive-wheels': 'fwd', 'price': 9549}, {'make': 'subaru', 'fuel-type': 'gas', 'body-style': 'sedan', 'drive-wheels': 'fwd', 'price': 9960}, {'make': 'volkswagen', 'fuel-type': 'gas', 'body-style': 'sedan', 'drive-wheels': 'fwd', 'price': 9995}, {'make': 'mazda', 'fuel-type': 'gas', 'body-style': 'sedan', 'drive-wheels': 'fwd', 'price': 10245}, {'make': 'honda', 'fuel-type': 'gas', 'body-style': 'sedan', 'drive-wheels': 'fwd', 'price': 10295}, {'make': 'honda', 'fuel-type': 'gas', 'body-style': 'sedan', 'drive-wheels': 'fwd', 'price': 10345}, {'make': 'toyota', 'fuel-type': 'gas', 'body-style': 'sedan', 'drive-wheels': 'fwd', 'price': 10898}, {'make': 'saab', 'fuel-type': 'gas', 'body-style': 'sedan', 'drive-wheels': 'fwd', 'price': 12170}, {'make': 'honda', 'fuel-type': 'gas', 'body-style': 'sedan', 'drive-wheels': 'fwd', 'price': 12945}, {'make': 'volkswagen', 'fuel-type': 'gas', 'body-style': 'sedan', 'drive-wheels': 'fwd', 'price': 13295}, {'make': 'nissan', 'fuel-type': 'gas', 'body-style': 'sedan', 'drive-wheels': 'fwd', 'price': 13499}, {'make': 'nissan', 'fuel-type': 'gas', 'body-style': 'sedan', 'drive-wheels': 'fwd', 'price': 13499}, {'make': 'audi', 'fuel-type': 'gas', 'body-style': 'sedan', 'drive-wheels': 'fwd', 'price': 13950}, {'make': 'audi', 'fuel-type': 'gas', 'body-style': 'sedan', 'drive-wheels': 'fwd', 'price': 15250}, {'make': 'saab', 'fuel-type': 'gas', 'body-style': 'sedan', 'drive-wheels': 'fwd', 'price': 15510}, {'make': 'audi', 'fuel-type': 'gas', 'body-style': 'sedan', 'drive-wheels': 'fwd', 'price': 17710}, {'make': 'saab', 'fuel-type': 'gas', 'body-style': 'sedan', 'drive-wheels': 'fwd', 'price': 18620}, {'make': 'audi', 'fuel-type': 'gas', 'body-style': 'sedan', 'drive-wheels': 'fwd', 'price': 23875}]\n",
      "Suggestions Returned: [{'make': 'nissan', 'fuel-type': 'gas', 'body-style': 'sedan', 'drive-wheels': 'fwd', 'price': 5499}, {'make': 'chevrolet', 'fuel-type': 'gas', 'body-style': 'sedan', 'drive-wheels': 'fwd', 'price': 6575}, {'make': 'nissan', 'fuel-type': 'gas', 'body-style': 'sedan', 'drive-wheels': 'fwd', 'price': 6649}, {'make': 'dodge', 'fuel-type': 'gas', 'body-style': 'sedan', 'drive-wheels': 'fwd', 'price': 6692}, {'make': 'plymouth', 'fuel-type': 'gas', 'body-style': 'sedan', 'drive-wheels': 'fwd', 'price': 6692}, {'make': 'mazda', 'fuel-type': 'gas', 'body-style': 'sedan', 'drive-wheels': 'fwd', 'price': 6695}, {'make': 'nissan', 'fuel-type': 'gas', 'body-style': 'sedan', 'drive-wheels': 'fwd', 'price': 6849}, {'make': 'toyota', 'fuel-type': 'gas', 'body-style': 'sedan', 'drive-wheels': 'fwd', 'price': 6938}, {'make': 'mitsubishi', 'fuel-type': 'gas', 'body-style': 'sedan', 'drive-wheels': 'fwd', 'price': 6989}, {'make': 'subaru', 'fuel-type': 'gas', 'body-style': 'sedan', 'drive-wheels': 'fwd', 'price': 7126}, {'make': 'honda', 'fuel-type': 'gas', 'body-style': 'sedan', 'drive-wheels': 'fwd', 'price': 7295}, {'make': 'nissan', 'fuel-type': 'gas', 'body-style': 'sedan', 'drive-wheels': 'fwd', 'price': 7299}, {'make': 'mazda', 'fuel-type': 'gas', 'body-style': 'sedan', 'drive-wheels': 'fwd', 'price': 7395}, {'make': 'nissan', 'fuel-type': 'gas', 'body-style': 'sedan', 'drive-wheels': 'fwd', 'price': 7499}, {'make': 'plymouth', 'fuel-type': 'gas', 'body-style': 'sedan', 'drive-wheels': 'fwd', 'price': 7609}, {'make': 'dodge', 'fuel-type': 'gas', 'body-style': 'sedan', 'drive-wheels': 'fwd', 'price': 7609}, {'make': 'toyota', 'fuel-type': 'gas', 'body-style': 'sedan', 'drive-wheels': 'fwd', 'price': 7738}, {'make': 'subaru', 'fuel-type': 'gas', 'body-style': 'sedan', 'drive-wheels': 'fwd', 'price': 7775}, {'make': 'volkswagen', 'fuel-type': 'gas', 'body-style': 'sedan', 'drive-wheels': 'fwd', 'price': 7975}, {'make': 'mitsubishi', 'fuel-type': 'gas', 'body-style': 'sedan', 'drive-wheels': 'fwd', 'price': 8189}, {'make': 'volkswagen', 'fuel-type': 'gas', 'body-style': 'sedan', 'drive-wheels': 'fwd', 'price': 8195}, {'make': 'volkswagen', 'fuel-type': 'gas', 'body-style': 'sedan', 'drive-wheels': 'fwd', 'price': 8495}, {'make': 'mazda', 'fuel-type': 'gas', 'body-style': 'sedan', 'drive-wheels': 'fwd', 'price': 8495}, {'make': 'dodge', 'fuel-type': 'gas', 'body-style': 'sedan', 'drive-wheels': 'fwd', 'price': 8558}, {'make': 'honda', 'fuel-type': 'gas', 'body-style': 'sedan', 'drive-wheels': 'fwd', 'price': 8845}, {'make': 'toyota', 'fuel-type': 'gas', 'body-style': 'sedan', 'drive-wheels': 'fwd', 'price': 8948}, {'make': 'toyota', 'fuel-type': 'gas', 'body-style': 'sedan', 'drive-wheels': 'fwd', 'price': 9258}, {'make': 'mitsubishi', 'fuel-type': 'gas', 'body-style': 'sedan', 'drive-wheels': 'fwd', 'price': 9279}, {'make': 'mitsubishi', 'fuel-type': 'gas', 'body-style': 'sedan', 'drive-wheels': 'fwd', 'price': 9279}, {'make': 'nissan', 'fuel-type': 'gas', 'body-style': 'sedan', 'drive-wheels': 'fwd', 'price': 9549}, {'make': 'subaru', 'fuel-type': 'gas', 'body-style': 'sedan', 'drive-wheels': 'fwd', 'price': 9960}, {'make': 'volkswagen', 'fuel-type': 'gas', 'body-style': 'sedan', 'drive-wheels': 'fwd', 'price': 9995}, {'make': 'mazda', 'fuel-type': 'gas', 'body-style': 'sedan', 'drive-wheels': 'fwd', 'price': 10245}, {'make': 'honda', 'fuel-type': 'gas', 'body-style': 'sedan', 'drive-wheels': 'fwd', 'price': 10295}, {'make': 'honda', 'fuel-type': 'gas', 'body-style': 'sedan', 'drive-wheels': 'fwd', 'price': 10345}, {'make': 'toyota', 'fuel-type': 'gas', 'body-style': 'sedan', 'drive-wheels': 'fwd', 'price': 10898}, {'make': 'saab', 'fuel-type': 'gas', 'body-style': 'sedan', 'drive-wheels': 'fwd', 'price': 12170}, {'make': 'honda', 'fuel-type': 'gas', 'body-style': 'sedan', 'drive-wheels': 'fwd', 'price': 12945}, {'make': 'volkswagen', 'fuel-type': 'gas', 'body-style': 'sedan', 'drive-wheels': 'fwd', 'price': 13295}, {'make': 'nissan', 'fuel-type': 'gas', 'body-style': 'sedan', 'drive-wheels': 'fwd', 'price': 13499}, {'make': 'nissan', 'fuel-type': 'gas', 'body-style': 'sedan', 'drive-wheels': 'fwd', 'price': 13499}, {'make': 'audi', 'fuel-type': 'gas', 'body-style': 'sedan', 'drive-wheels': 'fwd', 'price': 13950}, {'make': 'audi', 'fuel-type': 'gas', 'body-style': 'sedan', 'drive-wheels': 'fwd', 'price': 15250}, {'make': 'saab', 'fuel-type': 'gas', 'body-style': 'sedan', 'drive-wheels': 'fwd', 'price': 15510}, {'make': 'audi', 'fuel-type': 'gas', 'body-style': 'sedan', 'drive-wheels': 'fwd', 'price': 17710}, {'make': 'saab', 'fuel-type': 'gas', 'body-style': 'sedan', 'drive-wheels': 'fwd', 'price': 18620}, {'make': 'audi', 'fuel-type': 'gas', 'body-style': 'sedan', 'drive-wheels': 'fwd', 'price': 23875}]\n"
     ]
    },
    {
     "name": "stderr",
     "output_type": "stream",
     "text": [
      "127.0.0.1 - - [21/Apr/2025 16:25:29] \"POST /get-suggestions HTTP/1.1\" 200 -\n"
     ]
    },
    {
     "name": "stdout",
     "output_type": "stream",
     "text": [
      "Received Preferences: {'fuel-type': 'gas', 'body-style': 'sedan', 'drive-wheels': 'fwd'}\n",
      "Filtering by fuel-type = gas\n",
      "Filtering by body-style = sedan\n",
      "Filtering by drive-wheels = fwd\n",
      "Generated Suggestions: [{'make': 'nissan', 'fuel-type': 'gas', 'body-style': 'sedan', 'drive-wheels': 'fwd', 'price': 5499}, {'make': 'chevrolet', 'fuel-type': 'gas', 'body-style': 'sedan', 'drive-wheels': 'fwd', 'price': 6575}, {'make': 'nissan', 'fuel-type': 'gas', 'body-style': 'sedan', 'drive-wheels': 'fwd', 'price': 6649}, {'make': 'dodge', 'fuel-type': 'gas', 'body-style': 'sedan', 'drive-wheels': 'fwd', 'price': 6692}, {'make': 'plymouth', 'fuel-type': 'gas', 'body-style': 'sedan', 'drive-wheels': 'fwd', 'price': 6692}, {'make': 'mazda', 'fuel-type': 'gas', 'body-style': 'sedan', 'drive-wheels': 'fwd', 'price': 6695}, {'make': 'nissan', 'fuel-type': 'gas', 'body-style': 'sedan', 'drive-wheels': 'fwd', 'price': 6849}, {'make': 'toyota', 'fuel-type': 'gas', 'body-style': 'sedan', 'drive-wheels': 'fwd', 'price': 6938}, {'make': 'mitsubishi', 'fuel-type': 'gas', 'body-style': 'sedan', 'drive-wheels': 'fwd', 'price': 6989}, {'make': 'subaru', 'fuel-type': 'gas', 'body-style': 'sedan', 'drive-wheels': 'fwd', 'price': 7126}, {'make': 'honda', 'fuel-type': 'gas', 'body-style': 'sedan', 'drive-wheels': 'fwd', 'price': 7295}, {'make': 'nissan', 'fuel-type': 'gas', 'body-style': 'sedan', 'drive-wheels': 'fwd', 'price': 7299}, {'make': 'mazda', 'fuel-type': 'gas', 'body-style': 'sedan', 'drive-wheels': 'fwd', 'price': 7395}, {'make': 'nissan', 'fuel-type': 'gas', 'body-style': 'sedan', 'drive-wheels': 'fwd', 'price': 7499}, {'make': 'plymouth', 'fuel-type': 'gas', 'body-style': 'sedan', 'drive-wheels': 'fwd', 'price': 7609}, {'make': 'dodge', 'fuel-type': 'gas', 'body-style': 'sedan', 'drive-wheels': 'fwd', 'price': 7609}, {'make': 'toyota', 'fuel-type': 'gas', 'body-style': 'sedan', 'drive-wheels': 'fwd', 'price': 7738}, {'make': 'subaru', 'fuel-type': 'gas', 'body-style': 'sedan', 'drive-wheels': 'fwd', 'price': 7775}, {'make': 'volkswagen', 'fuel-type': 'gas', 'body-style': 'sedan', 'drive-wheels': 'fwd', 'price': 7975}, {'make': 'mitsubishi', 'fuel-type': 'gas', 'body-style': 'sedan', 'drive-wheels': 'fwd', 'price': 8189}, {'make': 'volkswagen', 'fuel-type': 'gas', 'body-style': 'sedan', 'drive-wheels': 'fwd', 'price': 8195}, {'make': 'volkswagen', 'fuel-type': 'gas', 'body-style': 'sedan', 'drive-wheels': 'fwd', 'price': 8495}, {'make': 'mazda', 'fuel-type': 'gas', 'body-style': 'sedan', 'drive-wheels': 'fwd', 'price': 8495}, {'make': 'dodge', 'fuel-type': 'gas', 'body-style': 'sedan', 'drive-wheels': 'fwd', 'price': 8558}, {'make': 'honda', 'fuel-type': 'gas', 'body-style': 'sedan', 'drive-wheels': 'fwd', 'price': 8845}, {'make': 'toyota', 'fuel-type': 'gas', 'body-style': 'sedan', 'drive-wheels': 'fwd', 'price': 8948}, {'make': 'toyota', 'fuel-type': 'gas', 'body-style': 'sedan', 'drive-wheels': 'fwd', 'price': 9258}, {'make': 'mitsubishi', 'fuel-type': 'gas', 'body-style': 'sedan', 'drive-wheels': 'fwd', 'price': 9279}, {'make': 'mitsubishi', 'fuel-type': 'gas', 'body-style': 'sedan', 'drive-wheels': 'fwd', 'price': 9279}, {'make': 'nissan', 'fuel-type': 'gas', 'body-style': 'sedan', 'drive-wheels': 'fwd', 'price': 9549}, {'make': 'subaru', 'fuel-type': 'gas', 'body-style': 'sedan', 'drive-wheels': 'fwd', 'price': 9960}, {'make': 'volkswagen', 'fuel-type': 'gas', 'body-style': 'sedan', 'drive-wheels': 'fwd', 'price': 9995}, {'make': 'mazda', 'fuel-type': 'gas', 'body-style': 'sedan', 'drive-wheels': 'fwd', 'price': 10245}, {'make': 'honda', 'fuel-type': 'gas', 'body-style': 'sedan', 'drive-wheels': 'fwd', 'price': 10295}, {'make': 'honda', 'fuel-type': 'gas', 'body-style': 'sedan', 'drive-wheels': 'fwd', 'price': 10345}, {'make': 'toyota', 'fuel-type': 'gas', 'body-style': 'sedan', 'drive-wheels': 'fwd', 'price': 10898}, {'make': 'saab', 'fuel-type': 'gas', 'body-style': 'sedan', 'drive-wheels': 'fwd', 'price': 12170}, {'make': 'honda', 'fuel-type': 'gas', 'body-style': 'sedan', 'drive-wheels': 'fwd', 'price': 12945}, {'make': 'volkswagen', 'fuel-type': 'gas', 'body-style': 'sedan', 'drive-wheels': 'fwd', 'price': 13295}, {'make': 'nissan', 'fuel-type': 'gas', 'body-style': 'sedan', 'drive-wheels': 'fwd', 'price': 13499}, {'make': 'nissan', 'fuel-type': 'gas', 'body-style': 'sedan', 'drive-wheels': 'fwd', 'price': 13499}, {'make': 'audi', 'fuel-type': 'gas', 'body-style': 'sedan', 'drive-wheels': 'fwd', 'price': 13950}, {'make': 'audi', 'fuel-type': 'gas', 'body-style': 'sedan', 'drive-wheels': 'fwd', 'price': 15250}, {'make': 'saab', 'fuel-type': 'gas', 'body-style': 'sedan', 'drive-wheels': 'fwd', 'price': 15510}, {'make': 'audi', 'fuel-type': 'gas', 'body-style': 'sedan', 'drive-wheels': 'fwd', 'price': 17710}, {'make': 'saab', 'fuel-type': 'gas', 'body-style': 'sedan', 'drive-wheels': 'fwd', 'price': 18620}, {'make': 'audi', 'fuel-type': 'gas', 'body-style': 'sedan', 'drive-wheels': 'fwd', 'price': 23875}]\n",
      "Suggestions Returned: [{'make': 'nissan', 'fuel-type': 'gas', 'body-style': 'sedan', 'drive-wheels': 'fwd', 'price': 5499}, {'make': 'chevrolet', 'fuel-type': 'gas', 'body-style': 'sedan', 'drive-wheels': 'fwd', 'price': 6575}, {'make': 'nissan', 'fuel-type': 'gas', 'body-style': 'sedan', 'drive-wheels': 'fwd', 'price': 6649}, {'make': 'dodge', 'fuel-type': 'gas', 'body-style': 'sedan', 'drive-wheels': 'fwd', 'price': 6692}, {'make': 'plymouth', 'fuel-type': 'gas', 'body-style': 'sedan', 'drive-wheels': 'fwd', 'price': 6692}, {'make': 'mazda', 'fuel-type': 'gas', 'body-style': 'sedan', 'drive-wheels': 'fwd', 'price': 6695}, {'make': 'nissan', 'fuel-type': 'gas', 'body-style': 'sedan', 'drive-wheels': 'fwd', 'price': 6849}, {'make': 'toyota', 'fuel-type': 'gas', 'body-style': 'sedan', 'drive-wheels': 'fwd', 'price': 6938}, {'make': 'mitsubishi', 'fuel-type': 'gas', 'body-style': 'sedan', 'drive-wheels': 'fwd', 'price': 6989}, {'make': 'subaru', 'fuel-type': 'gas', 'body-style': 'sedan', 'drive-wheels': 'fwd', 'price': 7126}, {'make': 'honda', 'fuel-type': 'gas', 'body-style': 'sedan', 'drive-wheels': 'fwd', 'price': 7295}, {'make': 'nissan', 'fuel-type': 'gas', 'body-style': 'sedan', 'drive-wheels': 'fwd', 'price': 7299}, {'make': 'mazda', 'fuel-type': 'gas', 'body-style': 'sedan', 'drive-wheels': 'fwd', 'price': 7395}, {'make': 'nissan', 'fuel-type': 'gas', 'body-style': 'sedan', 'drive-wheels': 'fwd', 'price': 7499}, {'make': 'plymouth', 'fuel-type': 'gas', 'body-style': 'sedan', 'drive-wheels': 'fwd', 'price': 7609}, {'make': 'dodge', 'fuel-type': 'gas', 'body-style': 'sedan', 'drive-wheels': 'fwd', 'price': 7609}, {'make': 'toyota', 'fuel-type': 'gas', 'body-style': 'sedan', 'drive-wheels': 'fwd', 'price': 7738}, {'make': 'subaru', 'fuel-type': 'gas', 'body-style': 'sedan', 'drive-wheels': 'fwd', 'price': 7775}, {'make': 'volkswagen', 'fuel-type': 'gas', 'body-style': 'sedan', 'drive-wheels': 'fwd', 'price': 7975}, {'make': 'mitsubishi', 'fuel-type': 'gas', 'body-style': 'sedan', 'drive-wheels': 'fwd', 'price': 8189}, {'make': 'volkswagen', 'fuel-type': 'gas', 'body-style': 'sedan', 'drive-wheels': 'fwd', 'price': 8195}, {'make': 'volkswagen', 'fuel-type': 'gas', 'body-style': 'sedan', 'drive-wheels': 'fwd', 'price': 8495}, {'make': 'mazda', 'fuel-type': 'gas', 'body-style': 'sedan', 'drive-wheels': 'fwd', 'price': 8495}, {'make': 'dodge', 'fuel-type': 'gas', 'body-style': 'sedan', 'drive-wheels': 'fwd', 'price': 8558}, {'make': 'honda', 'fuel-type': 'gas', 'body-style': 'sedan', 'drive-wheels': 'fwd', 'price': 8845}, {'make': 'toyota', 'fuel-type': 'gas', 'body-style': 'sedan', 'drive-wheels': 'fwd', 'price': 8948}, {'make': 'toyota', 'fuel-type': 'gas', 'body-style': 'sedan', 'drive-wheels': 'fwd', 'price': 9258}, {'make': 'mitsubishi', 'fuel-type': 'gas', 'body-style': 'sedan', 'drive-wheels': 'fwd', 'price': 9279}, {'make': 'mitsubishi', 'fuel-type': 'gas', 'body-style': 'sedan', 'drive-wheels': 'fwd', 'price': 9279}, {'make': 'nissan', 'fuel-type': 'gas', 'body-style': 'sedan', 'drive-wheels': 'fwd', 'price': 9549}, {'make': 'subaru', 'fuel-type': 'gas', 'body-style': 'sedan', 'drive-wheels': 'fwd', 'price': 9960}, {'make': 'volkswagen', 'fuel-type': 'gas', 'body-style': 'sedan', 'drive-wheels': 'fwd', 'price': 9995}, {'make': 'mazda', 'fuel-type': 'gas', 'body-style': 'sedan', 'drive-wheels': 'fwd', 'price': 10245}, {'make': 'honda', 'fuel-type': 'gas', 'body-style': 'sedan', 'drive-wheels': 'fwd', 'price': 10295}, {'make': 'honda', 'fuel-type': 'gas', 'body-style': 'sedan', 'drive-wheels': 'fwd', 'price': 10345}, {'make': 'toyota', 'fuel-type': 'gas', 'body-style': 'sedan', 'drive-wheels': 'fwd', 'price': 10898}, {'make': 'saab', 'fuel-type': 'gas', 'body-style': 'sedan', 'drive-wheels': 'fwd', 'price': 12170}, {'make': 'honda', 'fuel-type': 'gas', 'body-style': 'sedan', 'drive-wheels': 'fwd', 'price': 12945}, {'make': 'volkswagen', 'fuel-type': 'gas', 'body-style': 'sedan', 'drive-wheels': 'fwd', 'price': 13295}, {'make': 'nissan', 'fuel-type': 'gas', 'body-style': 'sedan', 'drive-wheels': 'fwd', 'price': 13499}, {'make': 'nissan', 'fuel-type': 'gas', 'body-style': 'sedan', 'drive-wheels': 'fwd', 'price': 13499}, {'make': 'audi', 'fuel-type': 'gas', 'body-style': 'sedan', 'drive-wheels': 'fwd', 'price': 13950}, {'make': 'audi', 'fuel-type': 'gas', 'body-style': 'sedan', 'drive-wheels': 'fwd', 'price': 15250}, {'make': 'saab', 'fuel-type': 'gas', 'body-style': 'sedan', 'drive-wheels': 'fwd', 'price': 15510}, {'make': 'audi', 'fuel-type': 'gas', 'body-style': 'sedan', 'drive-wheels': 'fwd', 'price': 17710}, {'make': 'saab', 'fuel-type': 'gas', 'body-style': 'sedan', 'drive-wheels': 'fwd', 'price': 18620}, {'make': 'audi', 'fuel-type': 'gas', 'body-style': 'sedan', 'drive-wheels': 'fwd', 'price': 23875}]\n"
     ]
    },
    {
     "name": "stderr",
     "output_type": "stream",
     "text": [
      "127.0.0.1 - - [21/Apr/2025 16:29:14] \"OPTIONS /get-suggestions HTTP/1.1\" 200 -\n",
      "127.0.0.1 - - [21/Apr/2025 16:29:17] \"OPTIONS /get-suggestions HTTP/1.1\" 200 -\n",
      "127.0.0.1 - - [21/Apr/2025 16:29:22] \"OPTIONS /get-suggestions HTTP/1.1\" 200 -\n",
      "127.0.0.1 - - [21/Apr/2025 16:29:32] \"OPTIONS /get-suggestions HTTP/1.1\" 200 -\n",
      "127.0.0.1 - - [21/Apr/2025 16:29:37] \"OPTIONS /get-suggestions HTTP/1.1\" 200 -\n",
      "127.0.0.1 - - [21/Apr/2025 16:30:16] \"OPTIONS /get-suggestions HTTP/1.1\" 200 -\n",
      "127.0.0.1 - - [21/Apr/2025 16:32:02] \"OPTIONS /get-suggestions HTTP/1.1\" 200 -\n",
      "127.0.0.1 - - [21/Apr/2025 16:32:12] \"OPTIONS /get-suggestions HTTP/1.1\" 200 -\n",
      "127.0.0.1 - - [21/Apr/2025 16:37:27] \"OPTIONS /get-suggestions HTTP/1.1\" 200 -\n",
      "127.0.0.1 - - [21/Apr/2025 16:38:53] \"OPTIONS /get-suggestions HTTP/1.1\" 200 -\n",
      "127.0.0.1 - - [21/Apr/2025 16:41:01] \"OPTIONS /get-suggestions HTTP/1.1\" 200 -\n",
      "127.0.0.1 - - [21/Apr/2025 16:41:07] \"OPTIONS /get-suggestions HTTP/1.1\" 200 -\n",
      "127.0.0.1 - - [21/Apr/2025 16:41:16] \"OPTIONS /get-suggestions HTTP/1.1\" 200 -\n",
      "127.0.0.1 - - [21/Apr/2025 16:45:11] \"OPTIONS /get-suggestions HTTP/1.1\" 200 -\n",
      "127.0.0.1 - - [21/Apr/2025 16:45:41] \"OPTIONS /get-suggestions HTTP/1.1\" 200 -\n",
      "127.0.0.1 - - [21/Apr/2025 16:47:11] \"OPTIONS /get-suggestions HTTP/1.1\" 200 -\n",
      "127.0.0.1 - - [21/Apr/2025 16:47:14] \"OPTIONS /get-suggestions HTTP/1.1\" 200 -\n",
      "127.0.0.1 - - [21/Apr/2025 16:47:20] \"OPTIONS /get-suggestions HTTP/1.1\" 200 -\n",
      "127.0.0.1 - - [21/Apr/2025 16:47:22] \"OPTIONS /get-suggestions HTTP/1.1\" 200 -\n",
      "127.0.0.1 - - [21/Apr/2025 16:47:27] \"OPTIONS /get-suggestions HTTP/1.1\" 200 -\n",
      "127.0.0.1 - - [21/Apr/2025 16:47:30] \"OPTIONS /get-suggestions HTTP/1.1\" 200 -\n",
      "127.0.0.1 - - [21/Apr/2025 16:50:10] \"OPTIONS /get-suggestions HTTP/1.1\" 200 -\n",
      "127.0.0.1 - - [21/Apr/2025 16:50:15] \"OPTIONS /get-suggestions HTTP/1.1\" 200 -\n",
      "127.0.0.1 - - [21/Apr/2025 16:50:18] \"OPTIONS /get-suggestions HTTP/1.1\" 200 -\n",
      "127.0.0.1 - - [21/Apr/2025 16:51:39] \"OPTIONS /get-suggestions HTTP/1.1\" 200 -\n",
      "127.0.0.1 - - [21/Apr/2025 16:53:45] \"OPTIONS /get-suggestions HTTP/1.1\" 200 -\n",
      "127.0.0.1 - - [21/Apr/2025 16:57:05] \"OPTIONS /get-suggestions HTTP/1.1\" 200 -\n",
      "127.0.0.1 - - [21/Apr/2025 17:12:23] \"OPTIONS /get-suggestions HTTP/1.1\" 200 -\n",
      "127.0.0.1 - - [21/Apr/2025 17:12:29] \"OPTIONS /get-suggestions HTTP/1.1\" 200 -\n",
      "127.0.0.1 - - [21/Apr/2025 17:14:19] \"OPTIONS /get-suggestions HTTP/1.1\" 200 -\n",
      "127.0.0.1 - - [21/Apr/2025 17:14:29] \"GET / HTTP/1.1\" 404 -\n",
      "127.0.0.1 - - [21/Apr/2025 17:15:27] \"OPTIONS /get-suggestions HTTP/1.1\" 200 -\n",
      "127.0.0.1 - - [21/Apr/2025 17:15:28] \"OPTIONS /get-suggestions HTTP/1.1\" 200 -\n",
      "127.0.0.1 - - [21/Apr/2025 17:20:25] \"GET / HTTP/1.1\" 404 -\n",
      "127.0.0.1 - - [21/Apr/2025 17:22:02] \"GET / HTTP/1.1\" 404 -\n",
      "127.0.0.1 - - [21/Apr/2025 17:22:40] \"GET /get-suggestions HTTP/1.1\" 405 -\n",
      "127.0.0.1 - - [21/Apr/2025 17:23:35] \"OPTIONS /get-suggestions HTTP/1.1\" 200 -\n",
      "127.0.0.1 - - [21/Apr/2025 17:23:52] \"OPTIONS /get-suggestions HTTP/1.1\" 200 -\n",
      "127.0.0.1 - - [21/Apr/2025 17:25:23] \"OPTIONS /get-suggestions HTTP/1.1\" 200 -\n",
      "127.0.0.1 - - [21/Apr/2025 17:25:50] \"OPTIONS /get-suggestions HTTP/1.1\" 200 -\n",
      "127.0.0.1 - - [21/Apr/2025 17:26:58] \"OPTIONS /get-suggestions HTTP/1.1\" 200 -\n",
      "127.0.0.1 - - [21/Apr/2025 17:27:17] \"OPTIONS /get-suggestions HTTP/1.1\" 200 -\n",
      "127.0.0.1 - - [21/Apr/2025 17:27:20] \"OPTIONS /get-suggestions HTTP/1.1\" 200 -\n",
      "127.0.0.1 - - [21/Apr/2025 17:27:40] \"OPTIONS /get-suggestions HTTP/1.1\" 200 -\n",
      "127.0.0.1 - - [21/Apr/2025 17:30:01] \"OPTIONS /get-suggestions HTTP/1.1\" 200 -\n",
      "127.0.0.1 - - [21/Apr/2025 17:30:15] \"GET / HTTP/1.1\" 404 -\n",
      "127.0.0.1 - - [21/Apr/2025 17:30:21] \"GET / HTTP/1.1\" 404 -\n",
      "127.0.0.1 - - [21/Apr/2025 17:31:35] \"OPTIONS /get-suggestions HTTP/1.1\" 200 -\n",
      "127.0.0.1 - - [21/Apr/2025 17:31:39] \"OPTIONS /get-suggestions HTTP/1.1\" 200 -\n",
      "127.0.0.1 - - [21/Apr/2025 17:40:42] \"GET / HTTP/1.1\" 404 -\n"
     ]
    }
   ],
   "source": [
    "if __name__ == '__main__':\n",
    "    app.run(debug=True, use_reloader=False)"
   ]
  }
 ],
 "metadata": {
  "kernelspec": {
   "display_name": "Python 3",
   "language": "python",
   "name": "python3"
  },
  "language_info": {
   "codemirror_mode": {
    "name": "ipython",
    "version": 3
   },
   "file_extension": ".py",
   "mimetype": "text/x-python",
   "name": "python",
   "nbconvert_exporter": "python",
   "pygments_lexer": "ipython3",
   "version": "3.11.9"
  }
 },
 "nbformat": 4,
 "nbformat_minor": 5
}
